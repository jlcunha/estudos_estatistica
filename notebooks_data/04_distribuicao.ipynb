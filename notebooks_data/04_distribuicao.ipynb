{
 "cells": [
  {
   "cell_type": "code",
   "execution_count": 34,
   "id": "21f567ff-17f2-47dc-8355-cb294eca5747",
   "metadata": {
    "tags": []
   },
   "outputs": [],
   "source": [
    "import math\n",
    "import numpy             as np\n",
    "import pandas            as pd\n",
    "import seaborn           as sns\n",
    "import matplotlib.pyplot as plt"
   ]
  },
  {
   "cell_type": "code",
   "execution_count": 22,
   "id": "5b4d46e2-faaa-408b-be45-19170b3f11ab",
   "metadata": {
    "tags": []
   },
   "outputs": [
    {
     "data": {
      "text/plain": [
       "array([162, 165, 171, 150, 153, 153, 157, 159, 169, 171, 168, 154, 173,\n",
       "       156, 162, 151, 156, 157, 173, 164, 167, 155, 163, 158, 159, 170,\n",
       "       169, 166, 169, 155, 165, 165, 150, 168, 153, 167, 169, 169, 169,\n",
       "       164])"
      ]
     },
     "execution_count": 22,
     "metadata": {},
     "output_type": "execute_result"
    }
   ],
   "source": [
    "np.random.seed(0)\n",
    "dados = np.random.randint(150, 174, 40)\n",
    "dados"
   ]
  },
  {
   "cell_type": "markdown",
   "id": "86036841-479d-4812-a48e-685c8fa543a6",
   "metadata": {
    "tags": []
   },
   "source": [
    "# ordenaçao"
   ]
  },
  {
   "cell_type": "code",
   "execution_count": 23,
   "id": "0e344759-527c-4a3e-96c4-7a574a6385b9",
   "metadata": {
    "tags": []
   },
   "outputs": [],
   "source": [
    "dados = np.sort(dados)"
   ]
  },
  {
   "cell_type": "code",
   "execution_count": 24,
   "id": "37973db7-23f9-4c21-ba14-133c96a45551",
   "metadata": {
    "tags": []
   },
   "outputs": [
    {
     "data": {
      "text/plain": [
       "(150, 173)"
      ]
     },
     "execution_count": 24,
     "metadata": {},
     "output_type": "execute_result"
    }
   ],
   "source": [
    "dados.min(), dados.max()"
   ]
  },
  {
   "cell_type": "code",
   "execution_count": 27,
   "id": "81c2d388-340e-401b-9a48-5e0980e1f51a",
   "metadata": {
    "tags": []
   },
   "outputs": [
    {
     "data": {
      "text/plain": [
       "(array([150, 151, 153, 154, 155, 156, 157, 158, 159, 162, 163, 164, 165,\n",
       "        166, 167, 168, 169, 170, 171, 173]),\n",
       " array([2, 1, 3, 1, 2, 2, 2, 1, 2, 2, 1, 2, 3, 1, 2, 2, 6, 1, 2, 2]))"
      ]
     },
     "execution_count": 27,
     "metadata": {},
     "output_type": "execute_result"
    }
   ],
   "source": [
    "np.unique(dados, return_counts=True)"
   ]
  },
  {
   "cell_type": "code",
   "execution_count": 29,
   "id": "40aaff62-63be-4061-95bd-ea652730c2eb",
   "metadata": {
    "tags": []
   },
   "outputs": [
    {
     "data": {
      "text/plain": [
       "<BarContainer object of 40 artists>"
      ]
     },
     "execution_count": 29,
     "metadata": {},
     "output_type": "execute_result"
    },
    {
     "data": {
      "image/png": "[encoded data removed]",
      "text/plain": [
       "<Figure size 640x480 with 1 Axes>"
      ]
     },
     "metadata": {},
     "output_type": "display_data"
    }
   ],
   "source": [
    "plt.bar(dados, dados)"
   ]
  },
  {
   "cell_type": "markdown",
   "id": "9b7ca13d-a61a-4407-955d-87919a501081",
   "metadata": {
    "tags": []
   },
   "source": [
    "# Numero de classes"
   ]
  },
  {
   "cell_type": "markdown",
   "id": "c5bbb1f1-050d-452b-8e2a-00dfed678401",
   "metadata": {},
   "source": [
    "## i = 1 + 3.3 log n"
   ]
  },
  {
   "cell_type": "code",
   "execution_count": 33,
   "id": "70d47d69-0c44-43db-b753-595a7d90ba95",
   "metadata": {
    "tags": []
   },
   "outputs": [
    {
     "data": {
      "text/plain": [
       "6.0"
      ]
     },
     "execution_count": 33,
     "metadata": {},
     "output_type": "execute_result"
    }
   ],
   "source": [
    "n = len(dados)\n",
    "i = np.round(1 + 3.3 * np.log10(n),0)\n",
    "i"
   ]
  },
  {
   "cell_type": "markdown",
   "id": "4aca9487-062f-4b4f-b80e-001d3b340d0a",
   "metadata": {
    "tags": []
   },
   "source": [
    "# Amplitude do intervalo"
   ]
  },
  {
   "cell_type": "markdown",
   "id": "f5181eea-425d-4b45-9684-fa2e0c418e75",
   "metadata": {},
   "source": [
    "h = AA/i\n",
    "\n",
    "AA = max - min"
   ]
  },
  {
   "cell_type": "code",
   "execution_count": 35,
   "id": "2e828212-6c3a-4597-8b1a-c666e3f1695f",
   "metadata": {
    "tags": []
   },
   "outputs": [
    {
     "data": {
      "text/plain": [
       "4"
      ]
     },
     "execution_count": 35,
     "metadata": {},
     "output_type": "execute_result"
    }
   ],
   "source": [
    "h = math.ceil((dados.max() - dados.min()) / i)\n",
    "h"
   ]
  },
  {
   "cell_type": "markdown",
   "id": "93617b67-b2b4-4aed-9838-a190645f69da",
   "metadata": {
    "tags": []
   },
   "source": [
    "# Construção do intervalo de frequencia"
   ]
  },
  {
   "cell_type": "code",
   "execution_count": 39,
   "id": "3cd8e4e7-df26-44f7-b9f3-8ce6e9447aea",
   "metadata": {
    "tags": []
   },
   "outputs": [
    {
     "data": {
      "text/plain": [
       "array([150, 154, 158, 162, 166, 170, 174])"
      ]
     },
     "execution_count": 39,
     "metadata": {},
     "output_type": "execute_result"
    }
   ],
   "source": [
    "intervalos = np.arange(dados.min(), dados.max() + 2, step = h)\n",
    "intervalos"
   ]
  },
  {
   "cell_type": "code",
   "execution_count": 40,
   "id": "2c8a601b-080a-4ebd-9bbe-5efd9cc6553b",
   "metadata": {
    "tags": []
   },
   "outputs": [],
   "source": [
    "i1, i2, i3, i4, i5, i6 = 0,0,0,0,0,0\n",
    "for i in range(n):\n",
    "    if dados[i] >= intervalos[0] and  dados[i] < intervalos[1]:\n",
    "        i1 += 1\n",
    "    elif dados[i] >= intervalos[1] and  dados[i] < intervalos[2]:\n",
    "        i2 += 1\n",
    "    elif dados[i] >= intervalos[2] and  dados[i] < intervalos[3]:\n",
    "        i3 += 1\n",
    "    elif dados[i] >= intervalos[3] and  dados[i] < intervalos[4]:\n",
    "        i4 += 1\n",
    "    elif dados[i] >= intervalos[4] and  dados[i] < intervalos[5]:\n",
    "        i5 += 1\n",
    "    elif dados[i] >= intervalos[5] and  dados[i] < intervalos[6]:\n",
    "        i6 += 1\n",
    "    else:\n",
    "        print('deu ruim')"
   ]
  },
  {
   "cell_type": "code",
   "execution_count": 54,
   "id": "409968ac-c7d4-4e18-810d-539f5bccfe0a",
   "metadata": {
    "tags": []
   },
   "outputs": [
    {
     "data": {
      "text/plain": [
       "[6, 7, 3, 8, 11, 5]"
      ]
     },
     "execution_count": 54,
     "metadata": {},
     "output_type": "execute_result"
    }
   ],
   "source": [
    "contagem = list((i1, i2, i3, i4, i5, i6))\n",
    "contagem"
   ]
  },
  {
   "cell_type": "code",
   "execution_count": 52,
   "id": "26337bbf-f11b-4c6d-afb9-615d6eda362a",
   "metadata": {
    "tags": []
   },
   "outputs": [],
   "source": [
    "lista_classes = []\n",
    "for i in range(len(intervalos[0:-1])):\n",
    "    lista_classes.append(str(intervalos[i]) + '_' + str(intervalos[i+1]))"
   ]
  },
  {
   "cell_type": "code",
   "execution_count": 53,
   "id": "3b56f7fd-1821-41e3-bfc8-99557d5ed591",
   "metadata": {
    "tags": []
   },
   "outputs": [
    {
     "data": {
      "text/plain": [
       "['150_154', '154_158', '158_162', '162_166', '166_170', '170_174']"
      ]
     },
     "execution_count": 53,
     "metadata": {},
     "output_type": "execute_result"
    }
   ],
   "source": [
    "lista_classes"
   ]
  },
  {
   "cell_type": "code",
   "execution_count": 55,
   "id": "5b27c818-70b4-4e05-bd92-3ef148c1897b",
   "metadata": {
    "tags": []
   },
   "outputs": [
    {
     "data": {
      "text/plain": [
       "<BarContainer object of 6 artists>"
      ]
     },
     "execution_count": 55,
     "metadata": {},
     "output_type": "execute_result"
    },
    {
     "data": {
      "image/png": "[encoded data removed]",
      "text/plain": [
       "<Figure size 640x480 with 1 Axes>"
      ]
     },
     "metadata": {},
     "output_type": "display_data"
    }
   ],
   "source": [
    "plt.bar(lista_classes, contagem)"
   ]
  }
 ],
 "metadata": {
  "kernelspec": {
   "display_name": "Python 3 (ipykernel)",
   "language": "python",
   "name": "python3"
  },
  "language_info": {
   "codemirror_mode": {
    "name": "ipython",
    "version": 3
   },
   "file_extension": ".py",
   "mimetype": "text/x-python",
   "name": "python",
   "nbconvert_exporter": "python",
   "pygments_lexer": "ipython3",
   "version": "3.10.0"
  }
 },
 "nbformat": 4,
 "nbformat_minor": 5
}
