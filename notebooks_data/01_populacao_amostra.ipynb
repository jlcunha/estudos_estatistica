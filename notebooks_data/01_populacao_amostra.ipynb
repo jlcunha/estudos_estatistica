{
 "cells": [
  {
   "cell_type": "code",
   "execution_count": 1,
   "id": "7c19c500-3182-4b48-b2ab-e12ea933e380",
   "metadata": {
    "tags": []
   },
   "outputs": [],
   "source": [
    "import pandas as pd\n",
    "import numpy as np\n",
    "import random"
   ]
  },
  {
   "cell_type": "code",
   "execution_count": 2,
   "id": "4447806f-7f91-4fed-837e-dc29b5fe6a7b",
   "metadata": {
    "tags": []
   },
   "outputs": [
    {
     "data": {
      "text/html": [
       "<div>\n",
       "<style scoped>\n",
       "    .dataframe tbody tr th:only-of-type {\n",
       "        vertical-align: middle;\n",
       "    }\n",
       "\n",
       "    .dataframe tbody tr th {\n",
       "        vertical-align: top;\n",
       "    }\n",
       "\n",
       "    .dataframe thead th {\n",
       "        text-align: right;\n",
       "    }\n",
       "</style>\n",
       "<table border=\"1\" class=\"dataframe\">\n",
       "  <thead>\n",
       "    <tr style=\"text-align: right;\">\n",
       "      <th></th>\n",
       "      <th>age</th>\n",
       "      <th>workclass</th>\n",
       "      <th>final-weight</th>\n",
       "      <th>education</th>\n",
       "      <th>education-num</th>\n",
       "      <th>marital-status</th>\n",
       "      <th>occupation</th>\n",
       "      <th>relationship</th>\n",
       "      <th>race</th>\n",
       "      <th>sex</th>\n",
       "      <th>capital-gain</th>\n",
       "      <th>capital-loos</th>\n",
       "      <th>hour-per-week</th>\n",
       "      <th>native-country</th>\n",
       "      <th>income</th>\n",
       "    </tr>\n",
       "  </thead>\n",
       "  <tbody>\n",
       "    <tr>\n",
       "      <th>0</th>\n",
       "      <td>39</td>\n",
       "      <td>State-gov</td>\n",
       "      <td>77516</td>\n",
       "      <td>Bachelors</td>\n",
       "      <td>13</td>\n",
       "      <td>Never-married</td>\n",
       "      <td>Adm-clerical</td>\n",
       "      <td>Not-in-family</td>\n",
       "      <td>White</td>\n",
       "      <td>Male</td>\n",
       "      <td>2174</td>\n",
       "      <td>0</td>\n",
       "      <td>40</td>\n",
       "      <td>United-States</td>\n",
       "      <td>&lt;=50K</td>\n",
       "    </tr>\n",
       "    <tr>\n",
       "      <th>1</th>\n",
       "      <td>50</td>\n",
       "      <td>Self-emp-not-inc</td>\n",
       "      <td>83311</td>\n",
       "      <td>Bachelors</td>\n",
       "      <td>13</td>\n",
       "      <td>Married-civ-spouse</td>\n",
       "      <td>Exec-managerial</td>\n",
       "      <td>Husband</td>\n",
       "      <td>White</td>\n",
       "      <td>Male</td>\n",
       "      <td>0</td>\n",
       "      <td>0</td>\n",
       "      <td>13</td>\n",
       "      <td>United-States</td>\n",
       "      <td>&lt;=50K</td>\n",
       "    </tr>\n",
       "    <tr>\n",
       "      <th>2</th>\n",
       "      <td>38</td>\n",
       "      <td>Private</td>\n",
       "      <td>215646</td>\n",
       "      <td>HS-grad</td>\n",
       "      <td>9</td>\n",
       "      <td>Divorced</td>\n",
       "      <td>Handlers-cleaners</td>\n",
       "      <td>Not-in-family</td>\n",
       "      <td>White</td>\n",
       "      <td>Male</td>\n",
       "      <td>0</td>\n",
       "      <td>0</td>\n",
       "      <td>40</td>\n",
       "      <td>United-States</td>\n",
       "      <td>&lt;=50K</td>\n",
       "    </tr>\n",
       "    <tr>\n",
       "      <th>3</th>\n",
       "      <td>53</td>\n",
       "      <td>Private</td>\n",
       "      <td>234721</td>\n",
       "      <td>11th</td>\n",
       "      <td>7</td>\n",
       "      <td>Married-civ-spouse</td>\n",
       "      <td>Handlers-cleaners</td>\n",
       "      <td>Husband</td>\n",
       "      <td>Black</td>\n",
       "      <td>Male</td>\n",
       "      <td>0</td>\n",
       "      <td>0</td>\n",
       "      <td>40</td>\n",
       "      <td>United-States</td>\n",
       "      <td>&lt;=50K</td>\n",
       "    </tr>\n",
       "    <tr>\n",
       "      <th>4</th>\n",
       "      <td>28</td>\n",
       "      <td>Private</td>\n",
       "      <td>338409</td>\n",
       "      <td>Bachelors</td>\n",
       "      <td>13</td>\n",
       "      <td>Married-civ-spouse</td>\n",
       "      <td>Prof-specialty</td>\n",
       "      <td>Wife</td>\n",
       "      <td>Black</td>\n",
       "      <td>Female</td>\n",
       "      <td>0</td>\n",
       "      <td>0</td>\n",
       "      <td>40</td>\n",
       "      <td>Cuba</td>\n",
       "      <td>&lt;=50K</td>\n",
       "    </tr>\n",
       "  </tbody>\n",
       "</table>\n",
       "</div>"
      ],
      "text/plain": [
       "   age          workclass  final-weight   education  education-num  \\\n",
       "0   39          State-gov         77516   Bachelors             13   \n",
       "1   50   Self-emp-not-inc         83311   Bachelors             13   \n",
       "2   38            Private        215646     HS-grad              9   \n",
       "3   53            Private        234721        11th              7   \n",
       "4   28            Private        338409   Bachelors             13   \n",
       "\n",
       "        marital-status          occupation    relationship    race      sex  \\\n",
       "0        Never-married        Adm-clerical   Not-in-family   White     Male   \n",
       "1   Married-civ-spouse     Exec-managerial         Husband   White     Male   \n",
       "2             Divorced   Handlers-cleaners   Not-in-family   White     Male   \n",
       "3   Married-civ-spouse   Handlers-cleaners         Husband   Black     Male   \n",
       "4   Married-civ-spouse      Prof-specialty            Wife   Black   Female   \n",
       "\n",
       "   capital-gain  capital-loos  hour-per-week  native-country  income  \n",
       "0          2174             0             40   United-States   <=50K  \n",
       "1             0             0             13   United-States   <=50K  \n",
       "2             0             0             40   United-States   <=50K  \n",
       "3             0             0             40   United-States   <=50K  \n",
       "4             0             0             40            Cuba   <=50K  "
      ]
     },
     "execution_count": 2,
     "metadata": {},
     "output_type": "execute_result"
    }
   ],
   "source": [
    "data = pd.read_csv('Estatística+para+Ciência+de+Dados+e+Machine+Learning (1)/Estatística para Ciência de Dados e Machine Learning/Bases de dados/census.csv')\n",
    "data.head()"
   ]
  },
  {
   "cell_type": "markdown",
   "id": "186cd065-050f-428e-b093-1f7c64095bc2",
   "metadata": {},
   "source": [
    "## Amostragem aleatória simple"
   ]
  },
  {
   "cell_type": "code",
   "execution_count": 3,
   "id": "9aa64bfe-e95a-486d-b269-83771ea7a82e",
   "metadata": {
    "tags": []
   },
   "outputs": [],
   "source": [
    "df_amostra_aleatoria_simples = data.sample(n=100, replace=False, random_state=0)"
   ]
  },
  {
   "cell_type": "code",
   "execution_count": 4,
   "id": "3a68d0ef-4f44-4017-be42-4ea75c8bba8b",
   "metadata": {},
   "outputs": [],
   "source": [
    "def amostra_aleatoria_simples(data, amostras):\n",
    "    df_amostra_aleatoria = data.sample(n=amostras, replace=False, random_state=0)\n",
    "    \n",
    "    return df_amostra_aleatoria"
   ]
  },
  {
   "cell_type": "markdown",
   "id": "a2dd4c88-f349-459f-a637-10796cf8d488",
   "metadata": {},
   "source": [
    "## Amostragem Sistemática"
   ]
  },
  {
   "cell_type": "code",
   "execution_count": 5,
   "id": "e7edf6cb-40d6-4f28-aef5-3016456eb89a",
   "metadata": {
    "tags": []
   },
   "outputs": [
    {
     "data": {
      "text/plain": [
       "325"
      ]
     },
     "execution_count": 5,
     "metadata": {},
     "output_type": "execute_result"
    }
   ],
   "source": [
    "len(data) // 100"
   ]
  },
  {
   "cell_type": "code",
   "execution_count": 6,
   "id": "c024d240-be0c-4bdc-8ea9-0f0cd51e649a",
   "metadata": {
    "tags": []
   },
   "outputs": [
    {
     "data": {
      "text/plain": [
       "68"
      ]
     },
     "execution_count": 6,
     "metadata": {},
     "output_type": "execute_result"
    }
   ],
   "source": [
    "random.seed(1)\n",
    "random.randint(0, 325)"
   ]
  },
  {
   "cell_type": "code",
   "execution_count": 7,
   "id": "d3eebb26-cf77-4452-b3f0-cc032b8aaff4",
   "metadata": {
    "tags": []
   },
   "outputs": [
    {
     "data": {
      "text/plain": [
       "393"
      ]
     },
     "execution_count": 7,
     "metadata": {},
     "output_type": "execute_result"
    }
   ],
   "source": [
    "68+325"
   ]
  },
  {
   "cell_type": "code",
   "execution_count": 8,
   "id": "f22abf8c-f7a5-46fa-abcd-d88c7033cb08",
   "metadata": {
    "tags": []
   },
   "outputs": [
    {
     "data": {
      "text/plain": [
       "array([   68,   393,   718,  1043,  1368,  1693,  2018,  2343,  2668,\n",
       "        2993,  3318,  3643,  3968,  4293,  4618,  4943,  5268,  5593,\n",
       "        5918,  6243,  6568,  6893,  7218,  7543,  7868,  8193,  8518,\n",
       "        8843,  9168,  9493,  9818, 10143, 10468, 10793, 11118, 11443,\n",
       "       11768, 12093, 12418, 12743, 13068, 13393, 13718, 14043, 14368,\n",
       "       14693, 15018, 15343, 15668, 15993, 16318, 16643, 16968, 17293,\n",
       "       17618, 17943, 18268, 18593, 18918, 19243, 19568, 19893, 20218,\n",
       "       20543, 20868, 21193, 21518, 21843, 22168, 22493, 22818, 23143,\n",
       "       23468, 23793, 24118, 24443, 24768, 25093, 25418, 25743, 26068,\n",
       "       26393, 26718, 27043, 27368, 27693, 28018, 28343, 28668, 28993,\n",
       "       29318, 29643, 29968, 30293, 30618, 30943, 31268, 31593, 31918,\n",
       "       32243])"
      ]
     },
     "execution_count": 8,
     "metadata": {},
     "output_type": "execute_result"
    }
   ],
   "source": [
    "np.arange(68, len(data), step=325)"
   ]
  },
  {
   "cell_type": "code",
   "execution_count": 9,
   "id": "833fcc07-d06e-4c8f-995c-18dec221f6cf",
   "metadata": {
    "tags": []
   },
   "outputs": [],
   "source": [
    "def amostra_sistematica( data, amostras):\n",
    "    intervalo = len(data) // amostras\n",
    "    random.seed(1)\n",
    "    inicio = random.randint( 0, intervalo)\n",
    "    indices = np.arange( inicio, len(data), step=intervalo )\n",
    "    \n",
    "    amostra =  data.iloc[indices]\n",
    "    \n",
    "    return amostra"
   ]
  },
  {
   "cell_type": "code",
   "execution_count": 44,
   "id": "3818f98b-2e38-43af-99c5-742586de0e48",
   "metadata": {
    "tags": []
   },
   "outputs": [],
   "source": [
    "df_amostra_sistematica = amostra_sistematica(data, 100)"
   ]
  },
  {
   "cell_type": "markdown",
   "id": "65e0aa90-944d-4eff-b326-753e306a0b86",
   "metadata": {
    "tags": []
   },
   "source": [
    "## Amostragem por grupos"
   ]
  },
  {
   "cell_type": "code",
   "execution_count": 10,
   "id": "fd50aa1f-32fa-423a-bf84-ea1e82823fa3",
   "metadata": {
    "tags": []
   },
   "outputs": [
    {
     "data": {
      "text/plain": [
       "3256"
      ]
     },
     "execution_count": 10,
     "metadata": {},
     "output_type": "execute_result"
    }
   ],
   "source": [
    "len(data) // 10"
   ]
  },
  {
   "cell_type": "code",
   "execution_count": 11,
   "id": "15dc0f96-f6d0-4e10-be92-f118636df788",
   "metadata": {
    "tags": []
   },
   "outputs": [],
   "source": [
    "grupos = []\n",
    "id_grupo = 0\n",
    "contagem = 0\n",
    "\n",
    "for _ in data.iterrows():\n",
    "    grupos.append( id_grupo )\n",
    "    contagem += 1\n",
    "    if contagem > 3256:\n",
    "        contagem = 0\n",
    "        id_grupo += 1"
   ]
  },
  {
   "cell_type": "code",
   "execution_count": 12,
   "id": "ed8d7d92-6265-4bdc-ac2b-962e7b3dced9",
   "metadata": {
    "tags": []
   },
   "outputs": [],
   "source": [
    "# print(grupos)"
   ]
  },
  {
   "cell_type": "code",
   "execution_count": 13,
   "id": "b8151b7f-c2e9-4aab-bb81-ebc224da834c",
   "metadata": {
    "tags": []
   },
   "outputs": [
    {
     "data": {
      "text/plain": [
       "(array([0, 1, 2, 3, 4, 5, 6, 7, 8, 9]),\n",
       " array([3257, 3257, 3257, 3257, 3257, 3257, 3257, 3257, 3257, 3248]))"
      ]
     },
     "execution_count": 13,
     "metadata": {},
     "output_type": "execute_result"
    }
   ],
   "source": [
    "np.unique(grupos, return_counts=True)"
   ]
  },
  {
   "cell_type": "code",
   "execution_count": 14,
   "id": "39c783d5-6ebf-4ac4-a0ac-25433dc6abe9",
   "metadata": {
    "tags": []
   },
   "outputs": [],
   "source": [
    "data['grupo'] = grupos"
   ]
  },
  {
   "cell_type": "code",
   "execution_count": 15,
   "id": "ed6a906d-0daa-47f1-a4b9-d4f4f9abe9b2",
   "metadata": {
    "tags": []
   },
   "outputs": [
    {
     "data": {
      "text/plain": [
       "9"
      ]
     },
     "execution_count": 15,
     "metadata": {},
     "output_type": "execute_result"
    }
   ],
   "source": [
    "random.randint( 0,9 )"
   ]
  },
  {
   "cell_type": "code",
   "execution_count": 16,
   "id": "be5a6589-b426-45fb-be09-bb23e6534c39",
   "metadata": {
    "tags": []
   },
   "outputs": [],
   "source": [
    "df_agrupamento = data.loc[data.grupo == 7]"
   ]
  },
  {
   "cell_type": "code",
   "execution_count": 17,
   "id": "e1e90260-e04c-4f28-bd2a-3fd8af834938",
   "metadata": {
    "tags": []
   },
   "outputs": [],
   "source": [
    "def amostragem_agrupamento( data, numero_grupos ):\n",
    "    intervalo = len(data) // numero_grupos\n",
    "    grupos = []\n",
    "    id_grupo = 0\n",
    "    contagem = 0\n",
    "\n",
    "    for _ in data.iterrows():\n",
    "        grupos.append( id_grupo )\n",
    "        contagem += 1\n",
    "        if contagem > intervalo:\n",
    "            contagem = 0\n",
    "            id_grupo += 1\n",
    "    \n",
    "    data['grupo'] = grupos\n",
    "    random.seed(1)\n",
    "    grupo_selecionado = random.randint(0, numero_grupos)\n",
    "    return data[data['grupo'] == grupo_selecionado]"
   ]
  },
  {
   "cell_type": "code",
   "execution_count": 18,
   "id": "4dd8954a-cc35-4d29-bf56-c39d59a0ef53",
   "metadata": {
    "tags": []
   },
   "outputs": [
    {
     "name": "stdout",
     "output_type": "stream",
     "text": [
      "CPU times: user 1.44 s, sys: 1.6 ms, total: 1.44 s\n",
      "Wall time: 1.44 s\n"
     ]
    }
   ],
   "source": [
    "%%time\n",
    "amostragem_grupo = amostragem_agrupamento(data, 100)"
   ]
  },
  {
   "cell_type": "code",
   "execution_count": 19,
   "id": "ce5fe27f-e843-4267-9b5b-e0678d87b11a",
   "metadata": {
    "tags": []
   },
   "outputs": [
    {
     "data": {
      "text/plain": [
       "(326, 16)"
      ]
     },
     "execution_count": 19,
     "metadata": {},
     "output_type": "execute_result"
    }
   ],
   "source": [
    "amostragem_grupo.shape"
   ]
  },
  {
   "cell_type": "code",
   "execution_count": 20,
   "id": "ee6de41d-0a03-4c2e-989a-c87e976a5f6d",
   "metadata": {
    "tags": []
   },
   "outputs": [],
   "source": [
    "def amostragem_agrupamento_tunada( data, numero_grupos ):\n",
    "    lista = np.arange(0, len(data), (len(data) // numero_grupos))\n",
    "    random.seed(1)\n",
    "    grupo_selecionado = random.randint(0, numero_grupos)\n",
    "    return data.iloc[ lista[grupo_selecionado]: (lista[grupo_selecionado + 1])+1]"
   ]
  },
  {
   "cell_type": "code",
   "execution_count": 21,
   "id": "d76aae5d-9267-46c8-abcd-a88195c98338",
   "metadata": {
    "tags": []
   },
   "outputs": [
    {
     "name": "stdout",
     "output_type": "stream",
     "text": [
      "CPU times: user 232 µs, sys: 16 µs, total: 248 µs\n",
      "Wall time: 235 µs\n"
     ]
    }
   ],
   "source": [
    "%%time\n",
    "teste = amostragem_agrupamento_tunada( data, 100 )"
   ]
  },
  {
   "cell_type": "code",
   "execution_count": 46,
   "id": "c9712d39-6e5d-4ac4-9237-4816e8c4c1a3",
   "metadata": {
    "tags": []
   },
   "outputs": [],
   "source": [
    "df_amostragem_agrupamento_tunada = amostragem_agrupamento_tunada(data, 7)"
   ]
  },
  {
   "cell_type": "markdown",
   "id": "7061fb81-7c91-4dcb-b8a8-77b19342ca05",
   "metadata": {},
   "source": [
    "## Amostragem estratificada"
   ]
  },
  {
   "cell_type": "code",
   "execution_count": 22,
   "id": "94ab9f77-e99d-4c8a-8903-47c1df40f311",
   "metadata": {
    "tags": []
   },
   "outputs": [],
   "source": [
    "from sklearn.model_selection import StratifiedShuffleSplit"
   ]
  },
  {
   "cell_type": "code",
   "execution_count": 24,
   "id": "45d6204f-b538-46da-b99a-ddf466c68fb6",
   "metadata": {
    "tags": []
   },
   "outputs": [
    {
     "data": {
      "text/plain": [
       "0.0030711587481956942"
      ]
     },
     "execution_count": 24,
     "metadata": {},
     "output_type": "execute_result"
    }
   ],
   "source": [
    "100 / len(data)"
   ]
  },
  {
   "cell_type": "code",
   "execution_count": 61,
   "id": "019102fd-90cc-47a6-95c9-ad91c4c23c84",
   "metadata": {
    "tags": []
   },
   "outputs": [],
   "source": [
    "def amostragem_estratificada( data, percentual, random_state=0):\n",
    "    split = StratifiedShuffleSplit(test_size=percentual, random_state=random_state)\n",
    "    for train, test in split.split(data, data.income):\n",
    "        train = data.iloc[x]\n",
    "        test = data.iloc[y]\n",
    "        \n",
    "    return train, test"
   ]
  },
  {
   "cell_type": "code",
   "execution_count": 37,
   "id": "4b81aa07-8448-4d43-8963-a0c25ee4654f",
   "metadata": {
    "tags": []
   },
   "outputs": [
    {
     "data": {
      "text/plain": [
       "((32461, 16), (100, 16))"
      ]
     },
     "execution_count": 37,
     "metadata": {},
     "output_type": "execute_result"
    }
   ],
   "source": [
    "train, test = amostragem_estratificada(data, 0.0030711587481956942) \n",
    "train.shape, test.shape"
   ]
  },
  {
   "cell_type": "markdown",
   "id": "53421f15-49e5-4c24-a7a7-78e9aa288fbb",
   "metadata": {},
   "source": [
    "## Amostragem de Reservatório (stream)"
   ]
  },
  {
   "cell_type": "code",
   "execution_count": 28,
   "id": "bba8c29b-99f4-4218-9623-c55c0ce34203",
   "metadata": {
    "tags": []
   },
   "outputs": [],
   "source": [
    "stream = []\n",
    "for i in range(len(data)):\n",
    "    stream.append(i)"
   ]
  },
  {
   "cell_type": "code",
   "execution_count": 29,
   "id": "1334a783-77ad-43ad-893d-e46e05fa1fb6",
   "metadata": {
    "tags": []
   },
   "outputs": [],
   "source": [
    "def amostragem_resevatorio( data, amostras ):\n",
    "    stream = []\n",
    "    for i in range(len(data)):\n",
    "        stream.append(i)\n",
    "        \n",
    "    i = 0\n",
    "    tamanho = len(data)\n",
    "    \n",
    "    reservatorio = [0] * amostras\n",
    "    for i in range(amostras):\n",
    "        reservatorio[i] = stream[i]\n",
    "        \n",
    "    while i < tamanho:\n",
    "        j = random.randrange( i + 1 )\n",
    "        if j < amostras:\n",
    "            reservatorio[j] = stream[i] \n",
    "            \n",
    "        i+=1\n",
    "        \n",
    "    return data.iloc[reservatorio]"
   ]
  },
  {
   "cell_type": "code",
   "execution_count": 50,
   "id": "ff5a9d8b-f85b-4c05-94fe-70cfd1c2c7a3",
   "metadata": {
    "tags": []
   },
   "outputs": [
    {
     "data": {
      "text/html": [
       "<div>\n",
       "<style scoped>\n",
       "    .dataframe tbody tr th:only-of-type {\n",
       "        vertical-align: middle;\n",
       "    }\n",
       "\n",
       "    .dataframe tbody tr th {\n",
       "        vertical-align: top;\n",
       "    }\n",
       "\n",
       "    .dataframe thead th {\n",
       "        text-align: right;\n",
       "    }\n",
       "</style>\n",
       "<table border=\"1\" class=\"dataframe\">\n",
       "  <thead>\n",
       "    <tr style=\"text-align: right;\">\n",
       "      <th></th>\n",
       "      <th>age</th>\n",
       "      <th>workclass</th>\n",
       "      <th>final-weight</th>\n",
       "      <th>education</th>\n",
       "      <th>education-num</th>\n",
       "      <th>marital-status</th>\n",
       "      <th>occupation</th>\n",
       "      <th>relationship</th>\n",
       "      <th>race</th>\n",
       "      <th>sex</th>\n",
       "      <th>capital-gain</th>\n",
       "      <th>capital-loos</th>\n",
       "      <th>hour-per-week</th>\n",
       "      <th>native-country</th>\n",
       "      <th>income</th>\n",
       "      <th>grupo</th>\n",
       "    </tr>\n",
       "  </thead>\n",
       "  <tbody>\n",
       "    <tr>\n",
       "      <th>29608</th>\n",
       "      <td>41</td>\n",
       "      <td>Self-emp-inc</td>\n",
       "      <td>114580</td>\n",
       "      <td>Prof-school</td>\n",
       "      <td>15</td>\n",
       "      <td>Married-civ-spouse</td>\n",
       "      <td>Exec-managerial</td>\n",
       "      <td>Wife</td>\n",
       "      <td>White</td>\n",
       "      <td>Female</td>\n",
       "      <td>0</td>\n",
       "      <td>2415</td>\n",
       "      <td>55</td>\n",
       "      <td>United-States</td>\n",
       "      <td>&gt;50K</td>\n",
       "      <td>90</td>\n",
       "    </tr>\n",
       "    <tr>\n",
       "      <th>21696</th>\n",
       "      <td>37</td>\n",
       "      <td>Federal-gov</td>\n",
       "      <td>329088</td>\n",
       "      <td>HS-grad</td>\n",
       "      <td>9</td>\n",
       "      <td>Married-civ-spouse</td>\n",
       "      <td>Adm-clerical</td>\n",
       "      <td>Husband</td>\n",
       "      <td>Black</td>\n",
       "      <td>Male</td>\n",
       "      <td>0</td>\n",
       "      <td>0</td>\n",
       "      <td>40</td>\n",
       "      <td>United-States</td>\n",
       "      <td>&lt;=50K</td>\n",
       "      <td>66</td>\n",
       "    </tr>\n",
       "    <tr>\n",
       "      <th>30676</th>\n",
       "      <td>42</td>\n",
       "      <td>Private</td>\n",
       "      <td>355728</td>\n",
       "      <td>Assoc-voc</td>\n",
       "      <td>11</td>\n",
       "      <td>Never-married</td>\n",
       "      <td>Craft-repair</td>\n",
       "      <td>Not-in-family</td>\n",
       "      <td>White</td>\n",
       "      <td>Male</td>\n",
       "      <td>0</td>\n",
       "      <td>0</td>\n",
       "      <td>44</td>\n",
       "      <td>United-States</td>\n",
       "      <td>&lt;=50K</td>\n",
       "      <td>94</td>\n",
       "    </tr>\n",
       "    <tr>\n",
       "      <th>28550</th>\n",
       "      <td>43</td>\n",
       "      <td>Private</td>\n",
       "      <td>110970</td>\n",
       "      <td>Bachelors</td>\n",
       "      <td>13</td>\n",
       "      <td>Married-civ-spouse</td>\n",
       "      <td>Prof-specialty</td>\n",
       "      <td>Husband</td>\n",
       "      <td>White</td>\n",
       "      <td>Male</td>\n",
       "      <td>0</td>\n",
       "      <td>1902</td>\n",
       "      <td>40</td>\n",
       "      <td>United-States</td>\n",
       "      <td>&gt;50K</td>\n",
       "      <td>87</td>\n",
       "    </tr>\n",
       "    <tr>\n",
       "      <th>8768</th>\n",
       "      <td>52</td>\n",
       "      <td>Federal-gov</td>\n",
       "      <td>221532</td>\n",
       "      <td>Bachelors</td>\n",
       "      <td>13</td>\n",
       "      <td>Married-civ-spouse</td>\n",
       "      <td>Protective-serv</td>\n",
       "      <td>Husband</td>\n",
       "      <td>White</td>\n",
       "      <td>Male</td>\n",
       "      <td>0</td>\n",
       "      <td>0</td>\n",
       "      <td>45</td>\n",
       "      <td>United-States</td>\n",
       "      <td>&gt;50K</td>\n",
       "      <td>26</td>\n",
       "    </tr>\n",
       "  </tbody>\n",
       "</table>\n",
       "</div>"
      ],
      "text/plain": [
       "       age      workclass  final-weight     education  education-num  \\\n",
       "29608   41   Self-emp-inc        114580   Prof-school             15   \n",
       "21696   37    Federal-gov        329088       HS-grad              9   \n",
       "30676   42        Private        355728     Assoc-voc             11   \n",
       "28550   43        Private        110970     Bachelors             13   \n",
       "8768    52    Federal-gov        221532     Bachelors             13   \n",
       "\n",
       "            marital-status        occupation    relationship    race      sex  \\\n",
       "29608   Married-civ-spouse   Exec-managerial            Wife   White   Female   \n",
       "21696   Married-civ-spouse      Adm-clerical         Husband   Black     Male   \n",
       "30676        Never-married      Craft-repair   Not-in-family   White     Male   \n",
       "28550   Married-civ-spouse    Prof-specialty         Husband   White     Male   \n",
       "8768    Married-civ-spouse   Protective-serv         Husband   White     Male   \n",
       "\n",
       "       capital-gain  capital-loos  hour-per-week  native-country  income  \\\n",
       "29608             0          2415             55   United-States    >50K   \n",
       "21696             0             0             40   United-States   <=50K   \n",
       "30676             0             0             44   United-States   <=50K   \n",
       "28550             0          1902             40   United-States    >50K   \n",
       "8768              0             0             45   United-States    >50K   \n",
       "\n",
       "       grupo  \n",
       "29608     90  \n",
       "21696     66  \n",
       "30676     94  \n",
       "28550     87  \n",
       "8768      26  "
      ]
     },
     "execution_count": 50,
     "metadata": {},
     "output_type": "execute_result"
    }
   ],
   "source": [
    "df_amostragem_resevatorio = amostragem_resevatorio(data,100)\n",
    "df_amostragem_resevatorio.head()"
   ]
  },
  {
   "cell_type": "markdown",
   "id": "69ab369d-319e-4cb6-a7d7-4d6040add8d0",
   "metadata": {},
   "source": [
    "# Comparativo dos resultados"
   ]
  },
  {
   "cell_type": "code",
   "execution_count": 42,
   "id": "5ffa5093-3e6b-4871-b642-3b5c883efe68",
   "metadata": {
    "tags": []
   },
   "outputs": [
    {
     "data": {
      "text/plain": [
       "38.58164675532078"
      ]
     },
     "execution_count": 42,
     "metadata": {},
     "output_type": "execute_result"
    }
   ],
   "source": [
    "data.age.mean()"
   ]
  },
  {
   "cell_type": "code",
   "execution_count": 43,
   "id": "eab4de94-b705-4dfb-9cac-f94fdb701437",
   "metadata": {
    "tags": []
   },
   "outputs": [
    {
     "data": {
      "text/plain": [
       "39.13"
      ]
     },
     "execution_count": 43,
     "metadata": {},
     "output_type": "execute_result"
    }
   ],
   "source": [
    "df_amostra_aleatoria_simples.age.mean()"
   ]
  },
  {
   "cell_type": "code",
   "execution_count": 45,
   "id": "24fca185-7fd2-4e74-b480-5214d6000825",
   "metadata": {
    "tags": []
   },
   "outputs": [
    {
     "data": {
      "text/plain": [
       "37.57"
      ]
     },
     "execution_count": 45,
     "metadata": {},
     "output_type": "execute_result"
    }
   ],
   "source": [
    "df_amostra_sistematica.age.mean()"
   ]
  },
  {
   "cell_type": "code",
   "execution_count": 48,
   "id": "cd186286-d104-4091-8e29-c93cbdee9a80",
   "metadata": {
    "tags": []
   },
   "outputs": [
    {
     "data": {
      "text/plain": [
       "38.74806534823732"
      ]
     },
     "execution_count": 48,
     "metadata": {},
     "output_type": "execute_result"
    }
   ],
   "source": [
    "df_amostragem_agrupamento_tunada.age.mean()"
   ]
  },
  {
   "cell_type": "code",
   "execution_count": 49,
   "id": "46795124-78e8-4814-a6d7-0f8436774e21",
   "metadata": {
    "tags": []
   },
   "outputs": [
    {
     "data": {
      "text/plain": [
       "37.15"
      ]
     },
     "execution_count": 49,
     "metadata": {},
     "output_type": "execute_result"
    }
   ],
   "source": [
    "test.age.mean()"
   ]
  },
  {
   "cell_type": "code",
   "execution_count": 51,
   "id": "b56a808b-250a-406c-a7cb-b82c0e881594",
   "metadata": {
    "tags": []
   },
   "outputs": [
    {
     "data": {
      "text/plain": [
       "37.85"
      ]
     },
     "execution_count": 51,
     "metadata": {},
     "output_type": "execute_result"
    }
   ],
   "source": [
    "df_amostragem_resevatorio.age.mean()"
   ]
  },
  {
   "cell_type": "markdown",
   "id": "13b39592-cc4b-41be-9bab-3d1fd5b75377",
   "metadata": {
    "tags": []
   },
   "source": [
    "# Exercicios"
   ]
  },
  {
   "cell_type": "code",
   "execution_count": 54,
   "id": "ed0f1805-0ba4-4fe9-a900-10f3e63cef73",
   "metadata": {
    "tags": []
   },
   "outputs": [
    {
     "data": {
      "text/html": [
       "<div>\n",
       "<style scoped>\n",
       "    .dataframe tbody tr th:only-of-type {\n",
       "        vertical-align: middle;\n",
       "    }\n",
       "\n",
       "    .dataframe tbody tr th {\n",
       "        vertical-align: top;\n",
       "    }\n",
       "\n",
       "    .dataframe thead th {\n",
       "        text-align: right;\n",
       "    }\n",
       "</style>\n",
       "<table border=\"1\" class=\"dataframe\">\n",
       "  <thead>\n",
       "    <tr style=\"text-align: right;\">\n",
       "      <th></th>\n",
       "      <th>i#clientid</th>\n",
       "      <th>income</th>\n",
       "      <th>age</th>\n",
       "      <th>loan</th>\n",
       "      <th>c#default</th>\n",
       "    </tr>\n",
       "  </thead>\n",
       "  <tbody>\n",
       "    <tr>\n",
       "      <th>0</th>\n",
       "      <td>1</td>\n",
       "      <td>66155.925095</td>\n",
       "      <td>59.017015</td>\n",
       "      <td>8106.532131</td>\n",
       "      <td>0</td>\n",
       "    </tr>\n",
       "    <tr>\n",
       "      <th>1</th>\n",
       "      <td>2</td>\n",
       "      <td>34415.153966</td>\n",
       "      <td>48.117153</td>\n",
       "      <td>6564.745018</td>\n",
       "      <td>0</td>\n",
       "    </tr>\n",
       "    <tr>\n",
       "      <th>2</th>\n",
       "      <td>3</td>\n",
       "      <td>57317.170063</td>\n",
       "      <td>63.108049</td>\n",
       "      <td>8020.953296</td>\n",
       "      <td>0</td>\n",
       "    </tr>\n",
       "    <tr>\n",
       "      <th>3</th>\n",
       "      <td>4</td>\n",
       "      <td>42709.534201</td>\n",
       "      <td>45.751972</td>\n",
       "      <td>6103.642260</td>\n",
       "      <td>0</td>\n",
       "    </tr>\n",
       "    <tr>\n",
       "      <th>4</th>\n",
       "      <td>5</td>\n",
       "      <td>66952.688845</td>\n",
       "      <td>18.584336</td>\n",
       "      <td>8770.099235</td>\n",
       "      <td>1</td>\n",
       "    </tr>\n",
       "  </tbody>\n",
       "</table>\n",
       "</div>"
      ],
      "text/plain": [
       "   i#clientid        income        age         loan  c#default\n",
       "0           1  66155.925095  59.017015  8106.532131          0\n",
       "1           2  34415.153966  48.117153  6564.745018          0\n",
       "2           3  57317.170063  63.108049  8020.953296          0\n",
       "3           4  42709.534201  45.751972  6103.642260          0\n",
       "4           5  66952.688845  18.584336  8770.099235          1"
      ]
     },
     "execution_count": 54,
     "metadata": {},
     "output_type": "execute_result"
    }
   ],
   "source": [
    "credit_data = pd.read_csv('Estatística+para+Ciência+de+Dados+e+Machine+Learning (1)/Estatística para Ciência de Dados e Machine Learning/Bases de dados/credit_data.csv')\n",
    "credit_data.head()"
   ]
  },
  {
   "cell_type": "markdown",
   "id": "20309efb-50ac-4fc2-8bce-7adbd0d99ba1",
   "metadata": {
    "tags": []
   },
   "source": [
    "## Realizando as amostragens"
   ]
  },
  {
   "cell_type": "code",
   "execution_count": 56,
   "id": "c119a91f-9855-4b1b-963e-ecf51c63ea93",
   "metadata": {
    "tags": []
   },
   "outputs": [
    {
     "data": {
      "text/plain": [
       "2.0"
      ]
     },
     "execution_count": 56,
     "metadata": {},
     "output_type": "execute_result"
    }
   ],
   "source": [
    "len(credit_data)/1000"
   ]
  },
  {
   "cell_type": "code",
   "execution_count": 59,
   "id": "df193f8b-9ef4-4e74-9c44-4c056c9f0333",
   "metadata": {
    "tags": []
   },
   "outputs": [
    {
     "data": {
      "text/plain": [
       "2000"
      ]
     },
     "execution_count": 59,
     "metadata": {},
     "output_type": "execute_result"
    }
   ],
   "source": [
    "len(credit_data)"
   ]
  },
  {
   "cell_type": "code",
   "execution_count": 64,
   "id": "f434168e-0158-40cd-9ffc-83d562054a6c",
   "metadata": {
    "tags": []
   },
   "outputs": [],
   "source": [
    "def amostragem_estratificada( data, percentual, random_state=0):\n",
    "    split = StratifiedShuffleSplit(test_size=percentual, random_state=random_state)\n",
    "    for _, test in split.split(data, data['c#default']):\n",
    "        test = data.iloc[test]\n",
    "        \n",
    "    return test"
   ]
  },
  {
   "cell_type": "code",
   "execution_count": 65,
   "id": "82a69a20-66a6-41ff-b636-9b6ce114eeb3",
   "metadata": {
    "tags": []
   },
   "outputs": [],
   "source": [
    "credit_amostra_aleatoria_simples = amostra_aleatoria_simples( credit_data, 1000)\n",
    "credit_amostra_sistematica = amostra_sistematica( credit_data, 1000)\n",
    "credit_amostragem_agrupamento_tunada = amostragem_agrupamento_tunada( credit_data, 2 )\n",
    "credit_amostragem_estratificada = amostragem_estratificada( credit_data, 0.5)\n",
    "credit_amostragem_resevatorio = amostragem_resevatorio( credit_data, 1000)"
   ]
  },
  {
   "cell_type": "code",
   "execution_count": 66,
   "id": "0db683e3-101b-406d-a96c-2ff9f1b76569",
   "metadata": {
    "tags": []
   },
   "outputs": [
    {
     "name": "stdout",
     "output_type": "stream",
     "text": [
      "credit_amostra_aleatoria_simples     : (1000, 5)\n",
      "credit_amostra_sistematica           : (1000, 5)\n",
      "credit_amostragem_agrupamento_tunada : (1001, 5)\n",
      "credit_amostragem_estratificada      : (1000, 5)\n",
      "credit_amostragem_resevatorio        : (1000, 5)\n"
     ]
    }
   ],
   "source": [
    "print(f'credit_amostra_aleatoria_simples     : {credit_amostra_aleatoria_simples.shape}')\n",
    "print(f'credit_amostra_sistematica           : {credit_amostra_sistematica.shape}')\n",
    "print(f'credit_amostragem_agrupamento_tunada : {credit_amostragem_agrupamento_tunada.shape}')\n",
    "print(f'credit_amostragem_estratificada      : {credit_amostragem_estratificada.shape}')\n",
    "print(f'credit_amostragem_resevatorio        : {credit_amostragem_resevatorio.shape}')"
   ]
  },
  {
   "cell_type": "markdown",
   "id": "c0a48782-0b6c-401a-a088-4fe185a00ca8",
   "metadata": {
    "tags": []
   },
   "source": [
    "### Age"
   ]
  },
  {
   "cell_type": "code",
   "execution_count": 68,
   "id": "28f6b3a4-b971-40c6-9e4c-14ef5553bc03",
   "metadata": {
    "tags": []
   },
   "outputs": [
    {
     "name": "stdout",
     "output_type": "stream",
     "text": [
      "original                             : 40.80755937840458\n",
      "credit_amostra_aleatoria_simples     : 40.826738977780984\n",
      "credit_amostra_sistematica           : 40.91117381141754\n",
      "credit_amostragem_agrupamento_tunada : 41.0432231120503\n",
      "credit_amostragem_estratificada      : 40.79162198073839\n",
      "credit_amostragem_resevatorio        : 40.57203708208336\n"
     ]
    }
   ],
   "source": [
    "print(f'original                             : {credit_data.age.mean()}')\n",
    "print(f'credit_amostra_aleatoria_simples     : {credit_amostra_aleatoria_simples.age.mean()}')\n",
    "print(f'credit_amostra_sistematica           : {credit_amostra_sistematica.age.mean()}')\n",
    "print(f'credit_amostragem_agrupamento_tunada : {credit_amostragem_agrupamento_tunada.age.mean()}')\n",
    "print(f'credit_amostragem_estratificada      : {credit_amostragem_estratificada.age.mean()}')\n",
    "print(f'credit_amostragem_resevatorio        : {credit_amostragem_resevatorio.age.mean()}')"
   ]
  },
  {
   "cell_type": "markdown",
   "id": "857a5e94-0925-41c6-9997-84279c883650",
   "metadata": {
    "tags": []
   },
   "source": [
    "### income"
   ]
  },
  {
   "cell_type": "code",
   "execution_count": 71,
   "id": "4cf103bc-758b-402b-834e-5df6220230ba",
   "metadata": {
    "tags": []
   },
   "outputs": [
    {
     "name": "stdout",
     "output_type": "stream",
     "text": [
      "original                             : 45331.600017793244\n",
      "credit_amostra_aleatoria_simples     : 45203.37180381175\n",
      "credit_amostra_sistematica           : 45691.49875066942\n",
      "credit_amostragem_agrupamento_tunada : 44846.74925986141\n",
      "credit_amostragem_estratificada      : 45610.56038789683\n",
      "credit_amostragem_resevatorio        : 45111.194297345355\n"
     ]
    }
   ],
   "source": [
    "print(f'original                             : {credit_data.income.mean()}')\n",
    "print(f'credit_amostra_aleatoria_simples     : {credit_amostra_aleatoria_simples.income.mean()}')\n",
    "print(f'credit_amostra_sistematica           : {credit_amostra_sistematica.income.mean()}')\n",
    "print(f'credit_amostragem_agrupamento_tunada : {credit_amostragem_agrupamento_tunada.income.mean()}')\n",
    "print(f'credit_amostragem_estratificada      : {credit_amostragem_estratificada.income.mean()}')\n",
    "print(f'credit_amostragem_resevatorio        : {credit_amostragem_resevatorio.income.mean()}')"
   ]
  },
  {
   "cell_type": "markdown",
   "id": "0d0a6623-04ca-479d-a7a0-8af48219da51",
   "metadata": {
    "tags": []
   },
   "source": [
    "### loan"
   ]
  },
  {
   "cell_type": "code",
   "execution_count": 73,
   "id": "f6d91433-57ea-4dd6-9bde-366d9019ffaf",
   "metadata": {
    "tags": []
   },
   "outputs": [
    {
     "name": "stdout",
     "output_type": "stream",
     "text": [
      "original                             : 4444.369694688258\n",
      "credit_amostra_aleatoria_simples     : 4335.287877726646\n",
      "credit_amostra_sistematica           : 4506.78797642633\n",
      "credit_amostragem_agrupamento_tunada : 4390.161493744205\n",
      "credit_amostragem_estratificada      : 4542.669190455281\n",
      "credit_amostragem_resevatorio        : 4429.634971370369\n"
     ]
    }
   ],
   "source": [
    "print(f'original                             : {credit_data.loan.mean()}')\n",
    "print(f'credit_amostra_aleatoria_simples     : {credit_amostra_aleatoria_simples.loan.mean()}')\n",
    "print(f'credit_amostra_sistematica           : {credit_amostra_sistematica.loan.mean()}')\n",
    "print(f'credit_amostragem_agrupamento_tunada : {credit_amostragem_agrupamento_tunada.loan.mean()}')\n",
    "print(f'credit_amostragem_estratificada      : {credit_amostragem_estratificada.loan.mean()}')\n",
    "print(f'credit_amostragem_resevatorio        : {credit_amostragem_resevatorio.loan.mean()}')"
   ]
  }
 ],
 "metadata": {
  "kernelspec": {
   "display_name": "Python 3 (ipykernel)",
   "language": "python",
   "name": "python3"
  },
  "language_info": {
   "codemirror_mode": {
    "name": "ipython",
    "version": 3
   },
   "file_extension": ".py",
   "mimetype": "text/x-python",
   "name": "python",
   "nbconvert_exporter": "python",
   "pygments_lexer": "ipython3",
   "version": "3.10.0"
  }
 },
 "nbformat": 4,
 "nbformat_minor": 5
}
